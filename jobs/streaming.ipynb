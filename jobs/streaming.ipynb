{
 "cells": [
  {
   "cell_type": "code",
   "execution_count": null,
   "metadata": {},
   "outputs": [],
   "source": [
    "from pyflink.table import EnvironmentSettings, TableEnvironment"
   ]
  },
  {
   "cell_type": "code",
   "execution_count": 13,
   "metadata": {},
   "outputs": [],
   "source": [
    "# create a batch TableEnvironment\n",
    "env_settings = EnvironmentSettings.in_batch_mode()\n",
    "table_env = TableEnvironment.create(env_settings)"
   ]
  },
  {
   "cell_type": "code",
   "execution_count": null,
   "metadata": {},
   "outputs": [
    {
     "name": "stdout",
     "output_type": "stream",
     "text": [
      "+----------------------+--------------------------------+\n",
      "|                   _1 |                             _2 |\n",
      "+----------------------+--------------------------------+\n",
      "|                    1 |                             Hi |\n",
      "|                    2 |                          Hello |\n",
      "+----------------------+--------------------------------+\n",
      "2 rows in set\n"
     ]
    }
   ],
   "source": [
    "\n",
    "table1 = table_env.from_elements([(1, 'Hi'), (2, 'Hello')])\n",
    "table1.execute().print()\n"
   ]
  },
  {
   "cell_type": "code",
   "execution_count": null,
   "metadata": {},
   "outputs": [
    {
     "name": "stdout",
     "output_type": "stream",
     "text": [
      "+----------------------+--------------------------------+\n",
      "|                   id |                           data |\n",
      "+----------------------+--------------------------------+\n",
      "|                    1 |                             Hi |\n",
      "|                    2 |                          Hello |\n",
      "+----------------------+--------------------------------+\n",
      "2 rows in set\n"
     ]
    }
   ],
   "source": [
    "table2 = table_env.from_elements([(1, 'Hi'), (2, 'Hello')], ['id', 'data'])\n",
    "table2.execute().print()"
   ]
  },
  {
   "cell_type": "code",
   "execution_count": null,
   "metadata": {},
   "outputs": [
    {
     "name": "stdout",
     "output_type": "stream",
     "text": [
      "By default the type of the \"id\" column is BIGINT.\n",
      "Now the type of the \"id\" column is TINYINT.\n"
     ]
    }
   ],
   "source": [
    "table3 = table_env.from_elements([(1, 'Hi'), (2, 'Hello')], ['id', 'data'])\n",
    "# by default, the type of the \"id\" column is BIGINT\n",
    "print('By default the type of the \"id\" column is %s.' % table3.get_schema().get_field_data_type(\"id\"))\n",
    "\n",
    "from pyflink.table import DataTypes\n",
    "table4 = table_env.from_elements([(1, 'Hi'), (2, 'Hello')],\n",
    "                                DataTypes.ROW([DataTypes.FIELD(\"id\", DataTypes.TINYINT()),\n",
    "                                               DataTypes.FIELD(\"data\", DataTypes.STRING())]))\n",
    "# now the type of the \"id\" column is set as TINYINT\n",
    "print('Now the type of the \"id\" column is %s.' % table4.get_schema().get_field_data_type(\"id\"))\n"
   ]
  },
  {
   "cell_type": "code",
   "execution_count": null,
   "metadata": {},
   "outputs": [
    {
     "data": {
      "text/plain": [
       "root\n",
       " |-- id: TINYINT\n",
       " |-- data: STRING"
      ]
     },
     "execution_count": 4,
     "metadata": {},
     "output_type": "execute_result"
    }
   ],
   "source": [
    "table4.get_schema()"
   ]
  },
  {
   "cell_type": "markdown",
   "metadata": {},
   "source": [
    "# Create using DDL statements # "
   ]
  },
  {
   "cell_type": "code",
   "execution_count": null,
   "metadata": {},
   "outputs": [],
   "source": [
    "# create a stream TableEnvironment\n",
    "stream_env_settings = EnvironmentSettings.in_streaming_mode()\n",
    "stream_table_env = TableEnvironment.create(stream_env_settings)"
   ]
  },
  {
   "cell_type": "code",
   "execution_count": null,
   "metadata": {},
   "outputs": [
    {
     "name": "stdout",
     "output_type": "stream",
     "text": [
      "+----+----------------------+--------+\n",
      "| op |                   id |   data |\n",
      "+----+----------------------+--------+\n",
      "| +I |                    1 |      4 |\n",
      "| +I |                    2 |      5 |\n",
      "| +I |                    3 |      6 |\n",
      "+----+----------------------+--------+\n",
      "3 rows in set\n"
     ]
    }
   ],
   "source": [
    "stream_table_env.execute_sql(\"\"\"\n",
    "    CREATE TABLE random_source (\n",
    "        id BIGINT, \n",
    "        data TINYINT \n",
    "    ) WITH (\n",
    "        'connector' = 'datagen',\n",
    "        'fields.id.kind'='sequence',\n",
    "        'fields.id.start'='1',\n",
    "        'fields.id.end'='3',\n",
    "        'fields.data.kind'='sequence',\n",
    "        'fields.data.start'='4',\n",
    "        'fields.data.end'='6'\n",
    "    )\n",
    "\"\"\")\n",
    "stream_table = stream_table_env.from_path(\"random_source\")\n",
    "stream_table.execute().print()\n"
   ]
  },
  {
   "cell_type": "code",
   "execution_count": 9,
   "metadata": {},
   "outputs": [],
   "source": [
    "from pyflink.table import TableDescriptor, Schema, DataTypes"
   ]
  },
  {
   "cell_type": "code",
   "execution_count": 10,
   "metadata": {},
   "outputs": [
    {
     "name": "stdout",
     "output_type": "stream",
     "text": [
      "+----+----------------------+--------+\n",
      "| op |                   id |   data |\n",
      "+----+----------------------+--------+\n",
      "| +I |                    1 |      4 |\n",
      "| +I |                    2 |      5 |\n",
      "| +I |                    3 |      6 |\n",
      "+----+----------------------+--------+\n",
      "3 rows in set\n"
     ]
    }
   ],
   "source": [
    "stream_table_env.create_temporary_table(\n",
    "    'random_source',\n",
    "    TableDescriptor.for_connector('datagen')\n",
    "        .schema(Schema.new_builder()\n",
    "                .column('id', DataTypes.BIGINT())\n",
    "                .column('data', DataTypes.TINYINT())\n",
    "                .build())\n",
    "        .option('fields.id.kind', 'sequence')\n",
    "        .option('fields.id.start', '1')\n",
    "        .option('fields.id.end', '3')\n",
    "        .option('fields.data.kind', 'sequence')\n",
    "        .option('fields.data.start', '4')\n",
    "        .option('fields.data.end', '6')\n",
    "        .build())\n",
    "\n",
    "stream_table2 = stream_table_env.from_path(\"random_source\")\n",
    "stream_table2.execute().print()\n"
   ]
  },
  {
   "cell_type": "code",
   "execution_count": 14,
   "metadata": {},
   "outputs": [
    {
     "name": "stdout",
     "output_type": "stream",
     "text": [
      "+----------------------+--------------------------------+\n",
      "|                   id |                           data |\n",
      "+----------------------+--------------------------------+\n",
      "|                    1 |                             Hi |\n",
      "|                    2 |                          Hello |\n",
      "+----------------------+--------------------------------+\n",
      "2 rows in set\n"
     ]
    }
   ],
   "source": [
    "table = table_env.from_elements([(1, 'Hi'), (2, 'Hello')], ['id', 'data'])\n",
    "table_env.create_temporary_view('source_table', table)\n",
    "\n",
    "# create Table API table from catalog\n",
    "new_table = table_env.from_path('source_table')\n",
    "new_table.execute().print()\n"
   ]
  },
  {
   "cell_type": "code",
   "execution_count": 18,
   "metadata": {},
   "outputs": [
    {
     "name": "stdout",
     "output_type": "stream",
     "text": [
      "+----+----------------------+--------------------------------+\n",
      "| op |                   id |                           data |\n",
      "+----+----------------------+--------------------------------+\n",
      "| +I |                    2 |                             Hi |\n",
      "| +I |                    3 |                          Hello |\n",
      "+----+----------------------+--------------------------------+\n",
      "2 rows in set\n"
     ]
    }
   ],
   "source": [
    "# stream_table = stream_table_env.from_elements([(2, 'Hi'), (3, 'Hello')], ['id', 'data'])\n",
    "# stream_table_env.create_temporary_view('source_table_stream', stream_table)\n",
    "\n",
    "# create Table API table from catalog\n",
    "new_stream_table = stream_table_env.from_path('source_table_stream')\n",
    "new_stream_table.execute().print()\n"
   ]
  },
  {
   "cell_type": "code",
   "execution_count": null,
   "metadata": {},
   "outputs": [
    {
     "name": "stdout",
     "output_type": "stream",
     "text": [
      "+--------------------------------+----------------------+\n",
      "|                           name |              rev_sum |\n",
      "+--------------------------------+----------------------+\n",
      "|                           Jack |                   30 |\n",
      "+--------------------------------+----------------------+\n",
      "1 row in set\n"
     ]
    }
   ],
   "source": [
    "from pyflink.table.expressions import call, col\n",
    "\n",
    "# using batch table environment to execute the queries\n",
    "orders = table_env.from_elements([('Jack', 'FRANCE', 10), ('Rose', 'ENGLAND', 30), ('Jack', 'FRANCE', 20)],\n",
    "                                 ['name', 'country', 'revenue'])\n",
    "\n",
    "# compute revenue for all customers from France\n",
    "revenue = orders \\\n",
    "    .select(col(\"name\"), col(\"country\"), col(\"revenue\")) \\\n",
    "    .where(col(\"country\") == 'FRANCE') \\\n",
    "    .group_by(col(\"name\")) \\\n",
    "    .select(col(\"name\"), call(\"sum\", col(\"revenue\")).alias('rev_sum'))\n",
    "\n",
    "revenue.execute().print()\n"
   ]
  },
  {
   "cell_type": "code",
   "execution_count": 28,
   "metadata": {},
   "outputs": [
    {
     "name": "stdout",
     "output_type": "stream",
     "text": [
      "+--------------------------------+----------------------+\n",
      "|                           name |                count |\n",
      "+--------------------------------+----------------------+\n",
      "|                           Jack |                    2 |\n",
      "|                           Rose |                    1 |\n",
      "+--------------------------------+----------------------+\n",
      "2 rows in set\n"
     ]
    }
   ],
   "source": [
    "revenue2 = orders \\\n",
    "    .group_by(col(\"name\")) \\\n",
    "    .select(col(\"name\"), call(\"count\", col(\"revenue\")).alias('count'))\n",
    "\n",
    "revenue2.execute().print()"
   ]
  },
  {
   "cell_type": "code",
   "execution_count": 31,
   "metadata": {},
   "outputs": [
    {
     "name": "stdout",
     "output_type": "stream",
     "text": [
      "18> +I[3, 9]\n",
      "15> +I[2, 7]\n",
      "15> -U[2, 7]\n",
      "18> -U[3, 9]\n",
      "15> +U[2, 15]\n",
      "18> +U[3, 19]\n",
      "4> +I[4, 11]\n"
     ]
    }
   ],
   "source": [
    "stream_table_env.execute_sql(\"\"\"\n",
    "    CREATE TABLE random_source (\n",
    "        id BIGINT, \n",
    "        data TINYINT\n",
    "    ) WITH (\n",
    "        'connector' = 'datagen',\n",
    "        'fields.id.kind'='sequence',\n",
    "        'fields.id.start'='1',\n",
    "        'fields.id.end'='8',\n",
    "        'fields.data.kind'='sequence',\n",
    "        'fields.data.start'='4',\n",
    "        'fields.data.end'='11'\n",
    "    )\n",
    "\"\"\")\n",
    "\n",
    "stream_table_env.execute_sql(\"\"\"\n",
    "    CREATE TABLE print_sink (\n",
    "        id BIGINT, \n",
    "        data_sum TINYINT \n",
    "    ) WITH (\n",
    "        'connector' = 'print'\n",
    "    )\n",
    "\"\"\")\n",
    "\n",
    "stream_table_env.execute_sql(\"\"\"\n",
    "    INSERT INTO print_sink\n",
    "        SELECT id, sum(data) as data_sum FROM \n",
    "            (SELECT id / 2 as id, data FROM random_source)\n",
    "        WHERE id > 1\n",
    "        GROUP BY id\n",
    "\"\"\").wait()\n"
   ]
  },
  {
   "cell_type": "code",
   "execution_count": 64,
   "metadata": {},
   "outputs": [
    {
     "data": {
      "text/plain": [
       "False"
      ]
     },
     "execution_count": 64,
     "metadata": {},
     "output_type": "execute_result"
    }
   ],
   "source": [
    "table_env.drop_temporary_table('orders2')"
   ]
  },
  {
   "cell_type": "code",
   "execution_count": 72,
   "metadata": {},
   "outputs": [
    {
     "data": {
      "text/plain": [
       "True"
      ]
     },
     "execution_count": 72,
     "metadata": {},
     "output_type": "execute_result"
    }
   ],
   "source": [
    "table_env.drop_temporary_view('orders2') "
   ]
  },
  {
   "cell_type": "code",
   "execution_count": 71,
   "metadata": {},
   "outputs": [
    {
     "name": "stdout",
     "output_type": "stream",
     "text": [
      "['UnnamedTable$0', 'orders', 'orders2', 'print_sink', 'source_table', 'table_api_table', 'table_sink']\n",
      "['UnnamedTable$0', 'orders', 'orders2', 'source_table', 'table_api_table']\n"
     ]
    }
   ],
   "source": [
    "# Liệt kê tất cả table/view khả dụng\n",
    "print(table_env.list_tables())\n",
    "\n",
    "# Liệt kê tất cả temporary table/view\n",
    "print(table_env.list_temporary_tables())"
   ]
  },
  {
   "cell_type": "code",
   "execution_count": 43,
   "metadata": {},
   "outputs": [
    {
     "data": {
      "text/plain": [
       "<pyflink.table.table_result.TableResult at 0x736820167550>"
      ]
     },
     "execution_count": 43,
     "metadata": {},
     "output_type": "execute_result"
    }
   ],
   "source": [
    "table_env.execute_sql(\"DROP TABLE IF EXISTS print_sink\")\n",
    "\n",
    "table_env.execute_sql(\"\"\"\n",
    "    CREATE TABLE print_sink (\n",
    "        name STRING, \n",
    "        count_abc BIGINT \n",
    "    ) WITH (\n",
    "        'connector' = 'print'\n",
    "    )\n",
    "\"\"\")\n"
   ]
  },
  {
   "cell_type": "code",
   "execution_count": 49,
   "metadata": {},
   "outputs": [
    {
     "name": "stdout",
     "output_type": "stream",
     "text": [
      "   name  count_abc\n",
      "0  Jack          2\n",
      "1  Rose          1\n"
     ]
    }
   ],
   "source": [
    "# SELECT query, không INSERT\n",
    "table = table_env.sql_query(\"\"\"\n",
    "    SELECT name, count(1) as count_abc \n",
    "    FROM orders2\n",
    "    GROUP BY name\n",
    "\"\"\")\n",
    "\n",
    "# Chuyển kết quả sang Pandas\n",
    "df = table.to_pandas()\n",
    "print(df)\n"
   ]
  },
  {
   "cell_type": "code",
   "execution_count": 52,
   "metadata": {},
   "outputs": [
    {
     "name": "stdout",
     "output_type": "stream",
     "text": [
      "1> +I[1, Hi]\n",
      "1> +I[2, Hello]\n"
     ]
    }
   ],
   "source": [
    "table_env.execute_sql(\"\"\"\n",
    "    CREATE TABLE table_sink (\n",
    "        id BIGINT, \n",
    "        data VARCHAR \n",
    "    ) WITH (\n",
    "        'connector' = 'print'\n",
    "    )\n",
    "\"\"\")\n",
    "\n",
    "# convert the Table API table to a SQL view\n",
    "table = table_env.from_elements([(1, 'Hi'), (2, 'Hello')], ['id', 'data'])\n",
    "table_env.create_temporary_view('table_api_table', table)\n",
    "\n",
    "# emit the Table API table\n",
    "table_env.execute_sql(\"INSERT INTO table_sink SELECT * FROM table_api_table\").wait()\n"
   ]
  }
 ],
 "metadata": {
  "kernelspec": {
   "display_name": ".venv (3.10.12)",
   "language": "python",
   "name": "python3"
  },
  "language_info": {
   "codemirror_mode": {
    "name": "ipython",
    "version": 3
   },
   "file_extension": ".py",
   "mimetype": "text/x-python",
   "name": "python",
   "nbconvert_exporter": "python",
   "pygments_lexer": "ipython3",
   "version": "3.10.12"
  }
 },
 "nbformat": 4,
 "nbformat_minor": 2
}
